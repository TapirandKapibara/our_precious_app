{
 "cells": [
  {
   "cell_type": "code",
   "execution_count": 11,
   "metadata": {},
   "outputs": [],
   "source": [
    "# import ipywidgets as widgets\n",
    "import numpy as np\n",
    "import pandas as pd\n",
    "# from ipywidgets import Button, Layout\n",
    "# from IPython.display import HTML\n",
    "from IPython.display import FileLink, FileLinks\n",
    "\n"
   ]
  },
  {
   "cell_type": "markdown",
   "metadata": {},
   "source": [
    "<font style=\"font-family:courier;\"> <font size = \"15;\"><span style=\"color:purple\">Input your sequence in the window below</span></font>"
   ]
  },
  {
   "cell_type": "code",
   "execution_count": 2,
   "metadata": {},
   "outputs": [
    {
     "name": "stdout",
     "output_type": "stream",
     "text": [
      "GHHHHHHFGHLKL; CVCVHHHPPR\n",
      "your protein is 25 aa long\n"
     ]
    }
   ],
   "source": [
    "sequences = input()\n",
    "prot_lengt = len(sequences)\n",
    "print(f'your protein is {prot_lengt} aa long')\n",
    "sequences = list(sequences.split(\";\"))"
   ]
  },
  {
   "cell_type": "code",
   "execution_count": 3,
   "metadata": {},
   "outputs": [
    {
     "name": "stdout",
     "output_type": "stream",
     "text": [
      "Input your cutoff3\n"
     ]
    }
   ],
   "source": [
    "cutoff = int(input(\"Input your cutoff\"))"
   ]
  },
  {
   "cell_type": "code",
   "execution_count": 4,
   "metadata": {},
   "outputs": [],
   "source": [
    "newseq = []\n",
    "for sequence in sequences:\n",
    "    x = sequence.replace(' ', '')\n",
    "    newseq.append(x)\n",
    "newseq\n",
    "for sequence in newseq:\n",
    "    if sequence == '':\n",
    "        newseq.remove('')"
   ]
  },
  {
   "cell_type": "code",
   "execution_count": 5,
   "metadata": {},
   "outputs": [],
   "source": [
    "molecular_weight = {\n",
    "    'A': 71.0788,\n",
    "    'E': 129.1155,\n",
    "    'R': 156.1875,\n",
    "    'N': 114.1038,\n",
    "    'D': 115.0886,\n",
    "    'C': 103.1388, \n",
    "    'Q': 128.1307, \n",
    "    'G': 57.0519,\n",
    "    'H': 137.1411,\n",
    "    'I': 113.1594,\n",
    "    'L': 113.1594,\n",
    "    'M': 131.1926,\n",
    "    'F': 147.1766,\n",
    "    'P': 97.1167,\n",
    "    'S': 87.0782,\n",
    "    'T': 101.1051,\n",
    "    'W': 186.2132,\n",
    "    'Y': 163.1760,\n",
    "    'V': 99.1326,\n",
    "    'K': 128.1741, \n",
    "}"
   ]
  },
  {
   "cell_type": "code",
   "execution_count": 6,
   "metadata": {},
   "outputs": [],
   "source": [
    "# Block to generate the sequences\n",
    "\n",
    "results = [['Result sequence', 'MW', 'Original sequence']]\n",
    "\n",
    "# So that we can have more than one sequence\n",
    "for sequence in newseq:\n",
    "    for aa_position in range(0, len(sequence)):\n",
    "        for i in range(aa_position, len(sequence)+1):\n",
    "            fragment = sequence[aa_position:i]\n",
    "            if len(fragment) >= cutoff:\n",
    "                weight = 18\n",
    "                \n",
    "                # Calculates the mw\n",
    "                for aa in fragment:\n",
    "                    weight += molecular_weight[aa]\n",
    "                #print(fragment, weight)\n",
    "                \n",
    "                # Saving the results\n",
    "                results.append([fragment, weight, sequence])\n",
    "df = pd.DataFrame(results)\n"
   ]
  },
  {
   "cell_type": "markdown",
   "metadata": {},
   "source": [
    "<b><text> <span style=\"color:purple\"> DOWNLOAD LINK WILL APPEAR BELOW </text> </span></b>"
   ]
  },
  {
   "cell_type": "code",
   "execution_count": null,
   "metadata": {},
   "outputs": [],
   "source": []
  },
  {
   "cell_type": "code",
   "execution_count": 7,
   "metadata": {},
   "outputs": [
    {
     "data": {
      "text/html": [
       "<a href='results.xlsx' target='_blank'>results.xlsx</a><br>"
      ],
      "text/plain": [
       "C:\\Users\\jukva\\results.xlsx"
      ]
     },
     "execution_count": 7,
     "metadata": {},
     "output_type": "execute_result"
    }
   ],
   "source": [
    "y = df.to_excel('results.xlsx')\n",
    "y\n",
    "FileLink('results.xlsx')"
   ]
  },
  {
   "cell_type": "code",
   "execution_count": 11,
   "metadata": {},
   "outputs": [
    {
     "data": {
      "text/html": [
       "<a href='results.csv' target='_blank'>results.csv</a><br>"
      ],
      "text/plain": [
       "C:\\Users\\jukva\\results.csv"
      ]
     },
     "execution_count": 11,
     "metadata": {},
     "output_type": "execute_result"
    }
   ],
   "source": [
    "#FileLink(r'results.csv')"
   ]
  },
  {
   "cell_type": "code",
   "execution_count": 12,
   "metadata": {},
   "outputs": [
    {
     "name": "stdout",
     "output_type": "stream",
     "text": [
      "The watermark extension is already loaded. To reload it, use:\n",
      "  %reload_ext watermark\n"
     ]
    }
   ],
   "source": [
    "\n"
   ]
  },
  {
   "cell_type": "code",
   "execution_count": 17,
   "metadata": {},
   "outputs": [
    {
     "name": "stdout",
     "output_type": "stream",
     "text": [
      "Python implementation: CPython\n",
      "Python version       : 3.8.5\n",
      "IPython version      : 7.19.0\n",
      "\n",
      "pandas: 1.1.3\n",
      "\n",
      "Compiler    : MSC v.1916 64 bit (AMD64)\n",
      "OS          : Windows\n",
      "Release     : 10\n",
      "Machine     : AMD64\n",
      "Processor   : Intel64 Family 6 Model 140 Stepping 1, GenuineIntel\n",
      "CPU cores   : 8\n",
      "Architecture: 64bit\n",
      "\n"
     ]
    }
   ],
   "source": []
  },
  {
   "cell_type": "code",
   "execution_count": 16,
   "metadata": {},
   "outputs": [
    {
     "name": "stdout",
     "output_type": "stream",
     "text": [
      "1.19.2\n"
     ]
    }
   ],
   "source": [
    "print(np.__version__)"
   ]
  },
  {
   "cell_type": "code",
   "execution_count": null,
   "metadata": {},
   "outputs": [],
   "source": []
  }
 ],
 "metadata": {
  "kernelspec": {
   "display_name": "Python 3",
   "language": "python",
   "name": "python3"
  },
  "language_info": {
   "codemirror_mode": {
    "name": "ipython",
    "version": 3
   },
   "file_extension": ".py",
   "mimetype": "text/x-python",
   "name": "python",
   "nbconvert_exporter": "python",
   "pygments_lexer": "ipython3",
   "version": "3.8.5"
  }
 },
 "nbformat": 4,
 "nbformat_minor": 4
}
